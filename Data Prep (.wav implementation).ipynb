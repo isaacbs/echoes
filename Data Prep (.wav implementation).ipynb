{
 "cells": [
  {
   "cell_type": "code",
   "execution_count": 1,
   "id": "85761ee1",
   "metadata": {},
   "outputs": [],
   "source": [
    "# Import libraries\n",
    "import librosa\n",
    "import librosa.display as ld\n",
    "import pandas as pd\n",
    "import numpy as np\n",
    "import matplotlib.pyplot as plt\n",
    "import seaborn as sns\n",
    "import os\n",
    "from pydub import AudioSegment\n",
    "from pandas import read_csv"
   ]
  },
  {
   "cell_type": "code",
   "execution_count": null,
   "id": "a5d3bf75",
   "metadata": {},
   "outputs": [],
   "source": [
    "df = pd.DataFrame()\n",
    "def create_df(df, filename):\n",
    "    notes = read_csv('./bach/notes/'+ filename)\n",
    "    \n",
    "\n",
    "file = \"./bach/audio/emil-telmanyi/emil-telmanyi_bwv1001.mp3\"\n",
    "dst = \"test.wav\"\n",
    "\n",
    "sound = AudioSegment.from_mp3(file)\n",
    "sound.export(dst, format=\"wav\")\n",
    "\n",
    "bach, rate = librosa.load(\"test.wav\")\n",
    "\n",
    "bach\n",
    "\n",
    "\n",
    "\n",
    "\n",
    "\n",
    "def mel_specto(sound):\n",
    "    spec = librosa.feature.melspectrogram(sound)\n",
    "    dec_spec = librosa.amplitude_to_db(spec)\n",
    "    return dec_spec\n",
    "\n",
    "fig, ax = plt.subplots(figsize=(25, 10))\n",
    "\n",
    "specto = ld.specshow(mel_specto(bach), sr=rate, x_axis=\"time\", cmap='plasma', ax=ax)\n",
    "ax.set(title=\"Bach Spectogram\")\n",
    "fig.colorbar(specto)\n",
    "\n",
    "def createFeatures(file, dst):\n",
    "    sound = AudioSegment.from_mp3(file)\n",
    "    sound.export(dst, format=\"wav\")\n",
    "    bach, rate = librosa.load(dst)\n",
    "    \n",
    "    mel = mel_specto(bach)\n",
    "    mfcc = librosa.feature.mfcc(bach)\n",
    "    chroma = librosa.feature.chroma_stft(bach, rate)"
   ]
  },
  {
   "cell_type": "code",
   "execution_count": null,
   "id": "4ff5fd0d",
   "metadata": {},
   "outputs": [],
   "source": []
  }
 ],
 "metadata": {
  "kernelspec": {
   "display_name": "echoes",
   "language": "python",
   "name": "echoes"
  },
  "language_info": {
   "codemirror_mode": {
    "name": "ipython",
    "version": 3
   },
   "file_extension": ".py",
   "mimetype": "text/x-python",
   "name": "python",
   "nbconvert_exporter": "python",
   "pygments_lexer": "ipython3",
   "version": "3.8.5"
  }
 },
 "nbformat": 4,
 "nbformat_minor": 5
}
